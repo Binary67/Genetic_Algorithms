{
 "cells": [
  {
   "cell_type": "code",
   "execution_count": 1,
   "metadata": {},
   "outputs": [
    {
     "name": "stderr",
     "output_type": "stream",
     "text": [
      "C:\\Users\\Franky\\Anaconda3\\envs\\AI\\lib\\site-packages\\h5py\\__init__.py:36: FutureWarning: Conversion of the second argument of issubdtype from `float` to `np.floating` is deprecated. In future, it will be treated as `np.float64 == np.dtype(float).type`.\n",
      "  from ._conv import register_converters as _register_converters\n"
     ]
    }
   ],
   "source": [
    "import tensorflow as tf\n",
    "import numpy as np\n",
    "import matplotlib.pyplot as plt\n",
    "from sklearn.model_selection import train_test_split\n",
    "import random\n",
    "import math\n",
    "import time"
   ]
  },
  {
   "cell_type": "code",
   "execution_count": 2,
   "metadata": {},
   "outputs": [],
   "source": [
    "# Variable\n",
    "Input_Size = 1\n",
    "Hidden_Size = 3\n",
    "Output_Size = 1\n",
    "\n",
    "# Genetic Algorithm Parameter\n",
    "Population = 30\n",
    "Mutation_Rate = 0.025"
   ]
  },
  {
   "cell_type": "code",
   "execution_count": 3,
   "metadata": {},
   "outputs": [],
   "source": [
    "# Create Dataset\n",
    "X = np.linspace(-1, 1, 300, dtype=np.float64)[:, np.newaxis]\n",
    "Noise = np.random.normal(0, 0.05, X.shape).astype(np.float32)\n",
    "Y = np.square(X) - 0.5 + Noise\n",
    "\n",
    "X_train, X_test, Y_train, Y_test = train_test_split(X, Y, test_size=0.33, random_state=42)"
   ]
  },
  {
   "cell_type": "code",
   "execution_count": 4,
   "metadata": {},
   "outputs": [
    {
     "data": {
      "image/png": "[encoded data removed]",
      "text/plain": [
       "<matplotlib.figure.Figure at 0x2058ab6fe10>"
      ]
     },
     "metadata": {},
     "output_type": "display_data"
    }
   ],
   "source": [
    "# Plot the Graph\n",
    "plt.scatter(X, Y, alpha = 1)\n",
    "plt.show()"
   ]
  },
  {
   "cell_type": "code",
   "execution_count": 5,
   "metadata": {},
   "outputs": [],
   "source": [
    "def Neural_Network_Layer(List_Population):\n",
    "    # Feed Forward \n",
    "    \n",
    "    Weight_1 = tf.Variable(List_Population[0])\n",
    "    Weight_2 = tf.Variable(List_Population[1])\n",
    "    Biase_1 = tf.Variable(List_Population[2])\n",
    "    Biase_2 = tf.Variable(List_Population[3])\n",
    "    \n",
    "    z1 = tf.matmul(X_train, Weight_1) + Biase_1\n",
    "    a1 = tf.nn.relu(z1)\n",
    "    z2 = tf.matmul(z1, Weight_2) + Biase_2\n",
    "    \n",
    "    Loss = tf.reduce_mean(tf.square(z2 - Y_train))\n",
    "    \n",
    "    sess = tf.Session()\n",
    "    sess.run(tf.global_variables_initializer())\n",
    "    \n",
    "    Cost = sess.run(Loss)\n",
    "    \n",
    "    return Cost"
   ]
  },
  {
   "cell_type": "code",
   "execution_count": 6,
   "metadata": {},
   "outputs": [],
   "source": [
    "def Create_Population():\n",
    "    List_Population = []\n",
    "    Temp = []\n",
    "    \n",
    "    for i in range(Population):\n",
    "        Weight_1 = np.random.randn(Input_Size, Hidden_Size)\n",
    "        Weight_2 = np.random.randn(Hidden_Size, Output_Size)\n",
    "        Biase_1 = np.random.randn(1, Hidden_Size)\n",
    "        Biase_2 = np.random.randn(1, Output_Size)\n",
    "        Temp = [Weight_1, Weight_2, Biase_1, Biase_2]\n",
    "        List_Population.append(Temp)\n",
    "    \n",
    "    return List_Population"
   ]
  },
  {
   "cell_type": "code",
   "execution_count": 7,
   "metadata": {},
   "outputs": [],
   "source": [
    "def Natural_Selection():\n",
    "    Mating_Pool = []\n",
    "    Num_Elements = 100\n",
    "    \n",
    "    Z = [A for _,A in sorted(zip(Fitness_Score,List_Population), reverse = True)]\n",
    "    W = [B for B,_ in sorted(zip(Fitness_Score,List_Population), reverse = True)]\n",
    "    \n",
    "    for i in range(len(List_Population)):\n",
    "        for j in range(1, (i + 1) * 2):\n",
    "            Mating_Pool.append(Z[i])\n",
    "            \n",
    "    Fittest_Index = W.index(min(W))\n",
    "    Current_Fittest_Child = Z[Fittest_Index]\n",
    "    Current_Fitness_Score = min(W)\n",
    "#     print('Current Fittest Child :', Current_Fittest_Child)\n",
    "    print('Cost on Testing Set :', Current_Fitness_Score)\n",
    "    \n",
    "    return Mating_Pool, Current_Fitness_Score, Current_Fittest_Child"
   ]
  },
  {
   "cell_type": "code",
   "execution_count": 8,
   "metadata": {},
   "outputs": [],
   "source": [
    "def Generate():\n",
    "    for i in range(Population):\n",
    "        A = math.floor(random.randint(0, len(Mating_Pool) - 1))\n",
    "        B = math.floor(random.randint(0, len(Mating_Pool) - 1))\n",
    "        PartnerA = Mating_Pool[A]\n",
    "        PartnerB = Mating_Pool[B]\n",
    "        Child = Crossover(PartnerA, PartnerB)\n",
    "        Child = Mutation(Child)\n",
    "        List_Population[i] = Child\n",
    "        \n",
    "#         print('Parent A :', PartnerA)\n",
    "#         print('Parent B :', PartnerB)\n",
    "#         print('Child :', Child)\n",
    "    \n",
    "    return List_Population"
   ]
  },
  {
   "cell_type": "code",
   "execution_count": 9,
   "metadata": {},
   "outputs": [],
   "source": [
    "def Mutation(Child):\n",
    "    \n",
    "    Mutation = {'Weight_1': np.random.randn(Input_Size, Hidden_Size),\n",
    "                'Weight_2': np.random.randn(Hidden_Size, Output_Size),\n",
    "                'Biase_1': np.random.randn(1, Hidden_Size),\n",
    "                'Biase_2': np.random.randn(1, Output_Size)}\n",
    "    \n",
    "    for i in range(4):\n",
    "        if random.uniform(0,1) < Mutation_Rate:\n",
    "            if i == 0:\n",
    "                Child[i] = Mutation['Weight_1']\n",
    "                print('Mutation Done on Parameter' , i)\n",
    "            elif i == 1:\n",
    "                Child[i] = Mutation['Weight_2']\n",
    "                print('Mutation Done on Parameter' , i)\n",
    "            elif i == 2:\n",
    "                Child[i] = Mutation['Biase_1']\n",
    "                print('Mutation Done on Parameter' , i)\n",
    "            elif i == 3:\n",
    "                Child[i] = Mutation['Biase_2']\n",
    "                print('Mutation Done on Parameter' , i)\n",
    "            \n",
    "            \n",
    "    return Child"
   ]
  },
  {
   "cell_type": "code",
   "execution_count": 10,
   "metadata": {},
   "outputs": [],
   "source": [
    "def Crossover(PartnerA, PartnerB):\n",
    "    Child = []\n",
    "    \n",
    "    Midpoint = math.floor(random.randint(0, (4 - 1)))\n",
    "    \n",
    "    for i in range(4):\n",
    "        if i > Midpoint:\n",
    "            Child.append(PartnerA[i])\n",
    "        else:\n",
    "            Child.append(PartnerB[i])\n",
    "            \n",
    "    return Child"
   ]
  },
  {
   "cell_type": "code",
   "execution_count": 11,
   "metadata": {},
   "outputs": [
    {
     "name": "stdout",
     "output_type": "stream",
     "text": [
      "Cost on Testing Set : 0.1049906900666026\n",
      "Mutation Done on Parameter 3\n",
      "\n",
      "Time Taken :  5.279538151293203\n",
      "Cost on Testing Set : 0.1049906900666026\n"
     ]
    }
   ],
   "source": [
    "if __name__ == '__main__':\n",
    "    \n",
    "    # Training\n",
    "    Current_Fitness_Score = 10\n",
    "    List_Population = Create_Population()\n",
    "    Time_0 = time.clock()\n",
    "    \n",
    "    while Current_Fitness_Score > 0.2:\n",
    "        Fitness_Score = []\n",
    "\n",
    "        for i in range(Population):\n",
    "            Cost = Neural_Network_Layer(List_Population[i])\n",
    "            Fitness_Score.append(Cost)\n",
    "        \n",
    "        Mating_Pool, Current_Fitness_Score, Current_Fittest_Child = Natural_Selection()\n",
    "        List_Population = Generate()\n",
    "        print()\n",
    "        \n",
    "    print('Time Taken : ', time.clock() - Time_0)\n",
    "    \n",
    "    \n",
    "    # Use the same parameters on testing set\n",
    "    Testing_Cost = Neural_Network_Layer(Current_Fittest_Child)\n",
    "    print('Cost on Testing Set :', Testing_Cost)"
   ]
  }
 ],
 "metadata": {
  "kernelspec": {
   "display_name": "Python 3",
   "language": "python",
   "name": "python3"
  },
  "language_info": {
   "codemirror_mode": {
    "name": "ipython",
    "version": 3
   },
   "file_extension": ".py",
   "mimetype": "text/x-python",
   "name": "python",
   "nbconvert_exporter": "python",
   "pygments_lexer": "ipython3",
   "version": "3.6.4"
  }
 },
 "nbformat": 4,
 "nbformat_minor": 2
}
