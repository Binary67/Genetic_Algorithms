{
 "cells": [
  {
   "cell_type": "code",
   "execution_count": null,
   "metadata": {},
   "outputs": [],
   "source": [
    "import numpy as np\n",
    "import string\n",
    "import random\n",
    "import math"
   ]
  },
  {
   "cell_type": "code",
   "execution_count": null,
   "metadata": {},
   "outputs": [],
   "source": [
    "# Create Target\n",
    "Target = 'GeneticAlgorithms'\n",
    "Target_Length = len(Target)\n",
    "Current_Fitness_Score = 0\n",
    "\n",
    "# Num of Example\n",
    "Num_Example = 400\n",
    "\n",
    "# Mutation Rate\n",
    "Mutation_Rate = 0.05"
   ]
  },
  {
   "cell_type": "code",
   "execution_count": null,
   "metadata": {},
   "outputs": [],
   "source": [
    "def Generate_Random_Char():\n",
    "    Array_Alphabet = []\n",
    "    \n",
    "    for i in range(Target_Length):\n",
    "        Array_Alphabet.append(random.choice(string.ascii_letters))\n",
    "        \n",
    "    return Array_Alphabet"
   ]
  },
  {
   "cell_type": "code",
   "execution_count": null,
   "metadata": {},
   "outputs": [],
   "source": [
    "def Generate_Random_Words():\n",
    "    Population = []\n",
    "    \n",
    "    for i in range(Num_Example):\n",
    "        Random_Alphabet = Generate_Random_Char()\n",
    "        Population.append(Random_Alphabet)\n",
    "        \n",
    "    return Population"
   ]
  },
  {
   "cell_type": "code",
   "execution_count": null,
   "metadata": {},
   "outputs": [],
   "source": [
    "def Calculate_Fitness():\n",
    "    Score = 0\n",
    "    Fitness_Score = []\n",
    "    \n",
    "    for i in range(Num_Example):\n",
    "        for j in range(Target_Length):\n",
    "            if (Population[i][j] == Target[j]):\n",
    "                Score = Score + 1\n",
    "                \n",
    "        Fitness_Score.append(Score / Target_Length * 100)\n",
    "        Score = 0\n",
    "    \n",
    "    \n",
    "    Fittest_Child = Fitness_Score.index(max(Fitness_Score))\n",
    "    Current_Fitness_Score = Fitness_Score[Fittest_Child]\n",
    "    print(Current_Fitness_Score)\n",
    "    print(Population[Fittest_Child])\n",
    "    \n",
    "    return Fitness_Score, Current_Fitness_Score"
   ]
  },
  {
   "cell_type": "code",
   "execution_count": null,
   "metadata": {},
   "outputs": [],
   "source": [
    "def Natural_Selection():\n",
    "    Mating_Pool = []\n",
    "    \n",
    "#     print('Fitness Score :', Fitness_Score)\n",
    "    \n",
    "    Input_Range = max(Fitness_Score) - min(Fitness_Score)\n",
    "    Output_Range = 100\n",
    "    \n",
    "    for i in range(len(Fitness_Score)):\n",
    "        Scaled_Value = float(Fitness_Score[i] - min(Fitness_Score)) / float(Input_Range)\n",
    "        Num_Elements = (Scaled_Value * Output_Range)\n",
    "        Num_Elements = math.floor(Num_Elements)\n",
    "        \n",
    "        for Num in range(Num_Elements):\n",
    "            Mating_Pool.append(Population[i])\n",
    "            \n",
    "#     print()        \n",
    "#     print('Length of Mating Pool :', len(Mating_Pool))\n",
    "    \n",
    "    return Mating_Pool"
   ]
  },
  {
   "cell_type": "code",
   "execution_count": null,
   "metadata": {},
   "outputs": [],
   "source": [
    "def Crossover(PartnerA, PartnerB):\n",
    "    Child = []\n",
    "    \n",
    "    Midpoint = math.floor(random.randint(0, (Target_Length - 1)))\n",
    "#     print('Midpoint :', Midpoint)\n",
    "    \n",
    "    for i in range(Target_Length):\n",
    "        if i > Midpoint:\n",
    "            Child.append(PartnerA[i])\n",
    "        else:\n",
    "            Child.append(PartnerB[i])\n",
    "            \n",
    "    return Child"
   ]
  },
  {
   "cell_type": "code",
   "execution_count": null,
   "metadata": {},
   "outputs": [],
   "source": [
    "def Mutation(Child):\n",
    "    for i in range(Target_Length):\n",
    "        if random.uniform(0,1) < Mutation_Rate:\n",
    "            Child[i] = random.choice(string.ascii_lowercase)\n",
    "            \n",
    "    return Child"
   ]
  },
  {
   "cell_type": "code",
   "execution_count": null,
   "metadata": {},
   "outputs": [],
   "source": [
    "def Generate():\n",
    "    for i in range(Num_Example):\n",
    "        A = math.floor(random.randint(0, len(Mating_Pool) - 1))\n",
    "        B = math.floor(random.randint(0, len(Mating_Pool) - 1))\n",
    "        PartnerA = Mating_Pool[A]\n",
    "        PartnerB = Mating_Pool[B]\n",
    "        Child = Crossover(PartnerA, PartnerB)\n",
    "        Child = Mutation(Child)\n",
    "        Population[i] = Child\n",
    "        \n",
    "#         print(PartnerA)\n",
    "#         print(PartnerB)\n",
    "#         print(Child)\n",
    "    \n",
    "    return Population"
   ]
  },
  {
   "cell_type": "code",
   "execution_count": null,
   "metadata": {},
   "outputs": [],
   "source": [
    "if __name__ == \"__main__\":\n",
    "    Population = Generate_Random_Words()\n",
    "    \n",
    "    while Current_Fitness_Score != 100:\n",
    "        Fitness_Score, Current_Fitness_Score = Calculate_Fitness()\n",
    "        Mating_Pool = Natural_Selection()\n",
    "        Population = Generate()"
   ]
  },
  {
   "cell_type": "code",
   "execution_count": null,
   "metadata": {},
   "outputs": [],
   "source": []
  }
 ],
 "metadata": {
  "kernelspec": {
   "display_name": "Python 3",
   "language": "python",
   "name": "python3"
  },
  "language_info": {
   "codemirror_mode": {
    "name": "ipython",
    "version": 3
   },
   "file_extension": ".py",
   "mimetype": "text/x-python",
   "name": "python",
   "nbconvert_exporter": "python",
   "pygments_lexer": "ipython3",
   "version": "3.6.4"
  }
 },
 "nbformat": 4,
 "nbformat_minor": 2
}
